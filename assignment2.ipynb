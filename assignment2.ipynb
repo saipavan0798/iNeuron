{
  "nbformat": 4,
  "nbformat_minor": 0,
  "metadata": {
    "accelerator": "TPU",
    "colab": {
      "name": "assignment2.ipynb",
      "provenance": []
    },
    "kernelspec": {
      "display_name": "Python 3",
      "language": "python",
      "name": "python3"
    },
    "language_info": {
      "codemirror_mode": {
        "name": "ipython",
        "version": 3
      },
      "file_extension": ".py",
      "mimetype": "text/x-python",
      "name": "python",
      "nbconvert_exporter": "python",
      "pygments_lexer": "ipython3",
      "version": "3.6.3"
    }
  },
  "cells": [
    {
      "cell_type": "markdown",
      "metadata": {
        "colab_type": "text",
        "id": "-LKwrLYRBdUT"
      },
      "source": [
        "# Task1:"
      ]
    },
    {
      "cell_type": "markdown",
      "metadata": {
        "colab_type": "text",
        "id": "kIOxAk85Bh6q"
      },
      "source": [
        "1.1  \n",
        " \n",
        "Write a Python Program to implement your own myreduce() function which works exactly like Python's built-in function reduce()"
      ]
    },
    {
      "cell_type": "code",
      "metadata": {
        "colab_type": "code",
        "id": "ZUu4GKT_4XaX",
        "colab": {}
      },
      "source": [
        "def myreduce(anyfun, sequence):\n",
        "  \n",
        "  # getting first item from the sequence and assigning it to result\n",
        "  result = sequence[0]\n",
        "  # iterate over remaining sequence and apply reduction function\n",
        "  for item in sequence[1:]:\n",
        "    result = anyfun(result, item)\n",
        "  return result"
      ],
      "execution_count": 0,
      "outputs": []
    },
    {
      "cell_type": "code",
      "metadata": {
        "colab_type": "code",
        "id": "Yhwvr9Xy4n5T",
        "outputId": "a5c60eb0-36c2-4cb9-927b-98390f51477b",
        "colab": {
          "base_uri": "https://localhost:8080/",
          "height": 35
        }
      },
      "source": [
        "a = [1, 3, 8, 0]\n",
        "\n",
        "myreduce(lambda x, y: x+y, a)"
      ],
      "execution_count": 2,
      "outputs": [
        {
          "output_type": "execute_result",
          "data": {
            "text/plain": [
              "12"
            ]
          },
          "metadata": {
            "tags": []
          },
          "execution_count": 2
        }
      ]
    },
    {
      "cell_type": "markdown",
      "metadata": {
        "colab_type": "text",
        "id": "feH6F5e3KW_e"
      },
      "source": [
        "1.2  \n",
        " \n",
        "Write a Python program to implement your own myfilter() function which works exactly like Python's built-in function filter() "
      ]
    },
    {
      "cell_type": "code",
      "metadata": {
        "colab_type": "code",
        "id": "h35Tb11lILun",
        "colab": {}
      },
      "source": [
        "def myfilter(anyfun, sequence):\n",
        "  \n",
        "  # Empty list\n",
        "  result = []\n",
        "  \n",
        "  for item in sequence:\n",
        "    if anyfun(item):\n",
        "      result.append(item)\n",
        "      \n",
        "  return result"
      ],
      "execution_count": 0,
      "outputs": []
    },
    {
      "cell_type": "code",
      "metadata": {
        "colab_type": "code",
        "id": "fGzkq_luLhBf",
        "colab": {}
      },
      "source": [
        "def even_num(num):\n",
        "  if num%2==0:\n",
        "    return True"
      ],
      "execution_count": 0,
      "outputs": []
    },
    {
      "cell_type": "code",
      "metadata": {
        "colab_type": "code",
        "id": "2TNTNBpQTViP",
        "outputId": "2dfecffd-a790-4170-a6eb-e2efb95d78eb",
        "colab": {
          "base_uri": "https://localhost:8080/",
          "height": 35
        }
      },
      "source": [
        "list(myfilter(even_num, a))"
      ],
      "execution_count": 5,
      "outputs": [
        {
          "output_type": "execute_result",
          "data": {
            "text/plain": [
              "[8, 0]"
            ]
          },
          "metadata": {
            "tags": []
          },
          "execution_count": 5
        }
      ]
    },
    {
      "cell_type": "markdown",
      "metadata": {
        "colab_type": "text",
        "id": "CksLaboue5in"
      },
      "source": [
        "#### 2.  \n",
        " \n",
        "Implement List comprehensions to produce the following lists. \n",
        " \n",
        "Write List comprehensions to produce the following Lists \n",
        " \n",
        "['A', 'C', 'A', 'D', 'G', 'I', ’L’, ‘ D’] \n",
        " \n",
        "['x', 'xx', 'xxx', 'xxxx', 'y', 'yy', 'yyy', 'yyyy', 'z', 'zz', 'zzz', 'zzzz'] \n",
        " \n",
        "['x', 'y', 'z', 'xx', 'yy', 'zz', 'xx', 'yy', 'zz', 'xxxx', 'yyyy', 'zzzz'] \n",
        " \n",
        "[[2], [3], [4], [3], [4], [5], [4], [5], [6]] \n",
        " \n",
        "[[2, 3, 4, 5], [3, 4, 5, 6], [4, 5, 6, 7], [5, 6, 7, 8]] \n",
        " \n",
        "[(1, 1), (2, 1), (3, 1), (1, 2), (2, 2), (3, 2), (1, 3), (2, 3), (3, 3)]"
      ]
    },
    {
      "cell_type": "code",
      "metadata": {
        "colab_type": "code",
        "id": "sK1rMFUQWZtk",
        "outputId": "7a943227-dc4a-4c47-b347-784602e8b629",
        "colab": {
          "base_uri": "https://localhost:8080/",
          "height": 35
        }
      },
      "source": [
        "word = \"ACADGILD\"\n",
        "\n",
        "[x for x in word]"
      ],
      "execution_count": 6,
      "outputs": [
        {
          "output_type": "execute_result",
          "data": {
            "text/plain": [
              "['A', 'C', 'A', 'D', 'G', 'I', 'L', 'D']"
            ]
          },
          "metadata": {
            "tags": []
          },
          "execution_count": 6
        }
      ]
    },
    {
      "cell_type": "code",
      "metadata": {
        "colab_type": "code",
        "id": "SpnicpFiWpof",
        "outputId": "fb7105a0-3f45-48bd-e4f1-94248d82e340",
        "colab": {
          "base_uri": "https://localhost:8080/",
          "height": 35
        }
      },
      "source": [
        "input_list = ['x', 'y', 'z']\n",
        "\n",
        "[item*num for item in input_list for num in range(1, 5)]"
      ],
      "execution_count": 7,
      "outputs": [
        {
          "output_type": "execute_result",
          "data": {
            "text/plain": [
              "['x', 'xx', 'xxx', 'xxxx', 'y', 'yy', 'yyy', 'yyyy', 'z', 'zz', 'zzz', 'zzzz']"
            ]
          },
          "metadata": {
            "tags": []
          },
          "execution_count": 7
        }
      ]
    },
    {
      "cell_type": "code",
      "metadata": {
        "id": "aguPy-6te30m",
        "colab_type": "code",
        "outputId": "9d1477ae-15b2-4de7-fc73-ef10b52a532b",
        "colab": {
          "base_uri": "https://localhost:8080/",
          "height": 35
        }
      },
      "source": [
        "input_list = ['x','y','z']\n",
        "\n",
        "[item*num for num in range(1, 4) for item in input_list]"
      ],
      "execution_count": 8,
      "outputs": [
        {
          "output_type": "execute_result",
          "data": {
            "text/plain": [
              "['x', 'y', 'z', 'xx', 'yy', 'zz', 'xxx', 'yyy', 'zzz']"
            ]
          },
          "metadata": {
            "tags": []
          },
          "execution_count": 8
        }
      ]
    },
    {
      "cell_type": "code",
      "metadata": {
        "id": "UsPb8xAte30r",
        "colab_type": "code",
        "outputId": "d3ae59a6-bfde-4d40-8617-41e84638727c",
        "colab": {
          "base_uri": "https://localhost:8080/",
          "height": 35
        }
      },
      "source": [
        "input_num = [2, 3, 4]\n",
        "\n",
        "[[item+num] for num in range(0, 3) for item in input_num]"
      ],
      "execution_count": 9,
      "outputs": [
        {
          "output_type": "execute_result",
          "data": {
            "text/plain": [
              "[[2], [3], [4], [3], [4], [5], [4], [5], [6]]"
            ]
          },
          "metadata": {
            "tags": []
          },
          "execution_count": 9
        }
      ]
    },
    {
      "cell_type": "code",
      "metadata": {
        "id": "YNXVfxn2e30v",
        "colab_type": "code",
        "outputId": "c834cfa1-0608-4a0a-f2ae-b7d0c190a407",
        "colab": {
          "base_uri": "https://localhost:8080/",
          "height": 35
        }
      },
      "source": [
        "input_num = [2, 3, 4, 5]\n",
        "\n",
        "[[item+num for item in input_num] for num in range(0,4)]"
      ],
      "execution_count": 10,
      "outputs": [
        {
          "output_type": "execute_result",
          "data": {
            "text/plain": [
              "[[2, 3, 4, 5], [3, 4, 5, 6], [4, 5, 6, 7], [5, 6, 7, 8]]"
            ]
          },
          "metadata": {
            "tags": []
          },
          "execution_count": 10
        }
      ]
    },
    {
      "cell_type": "code",
      "metadata": {
        "id": "0grVF33fe30z",
        "colab_type": "code",
        "outputId": "a2f83f01-6de7-47f6-d036-5cc6daab18f2",
        "colab": {
          "base_uri": "https://localhost:8080/",
          "height": 35
        }
      },
      "source": [
        "input_num = [1, 2, 3]\n",
        "\n",
        "[(a, b) for a in input_num for b in range(1,4)]"
      ],
      "execution_count": 11,
      "outputs": [
        {
          "output_type": "execute_result",
          "data": {
            "text/plain": [
              "[(1, 1), (1, 2), (1, 3), (2, 1), (2, 2), (2, 3), (3, 1), (3, 2), (3, 3)]"
            ]
          },
          "metadata": {
            "tags": []
          },
          "execution_count": 11
        }
      ]
    },
    {
      "cell_type": "markdown",
      "metadata": {
        "collapsed": true,
        "id": "ExMmdbBJe303",
        "colab_type": "text"
      },
      "source": [
        "3.\n",
        "Implement a function longestWord() that takes a list of words and returns the longest one."
      ]
    },
    {
      "cell_type": "code",
      "metadata": {
        "id": "qAYhXvv9e304",
        "colab_type": "code",
        "colab": {}
      },
      "source": [
        "def longestWord(mylist):\n",
        "    longestword = sorted(mylist, key=len, reverse=True)\n",
        "    return longestword[0]"
      ],
      "execution_count": 0,
      "outputs": []
    },
    {
      "cell_type": "code",
      "metadata": {
        "id": "3DVkqXnce308",
        "colab_type": "code",
        "outputId": "a03d676e-273a-493d-8640-66732b7e63d9",
        "colab": {
          "base_uri": "https://localhost:8080/",
          "height": 35
        }
      },
      "source": [
        "mylist = ['Data Science', 'Machine Learning', 'Statistics', 'Deep Learning']\n",
        "\n",
        "print(longestWord(mylist))"
      ],
      "execution_count": 13,
      "outputs": [
        {
          "output_type": "stream",
          "text": [
            "Machine Learning\n"
          ],
          "name": "stdout"
        }
      ]
    },
    {
      "cell_type": "markdown",
      "metadata": {
        "id": "BRU5MYfxe31B",
        "colab_type": "text"
      },
      "source": [
        "# Task 2"
      ]
    },
    {
      "cell_type": "markdown",
      "metadata": {
        "id": "2YDXiWXre31C",
        "colab_type": "text"
      },
      "source": [
        "1.1\n",
        "Write a Python Program(with class concepts) to find the area of the triangle using the below\n",
        "formula.\n",
        "area = (s*(s-a)*(s-b)*(s-c)) ** 0.5\n",
        "Function to take the length of the sides of triangle from user should be defined in the parent\n",
        "class and function to calculate the area should be defined in subclass.\n"
      ]
    },
    {
      "cell_type": "code",
      "metadata": {
        "id": "ijrk36T-e31D",
        "colab_type": "code",
        "colab": {}
      },
      "source": [
        "class area_triangle:\n",
        "    def __init__(self, a, b, c):\n",
        "        self.a = a\n",
        "        self.b = b\n",
        "        self.c = c\n",
        "        \n",
        "    def area(self):\n",
        "        s = int(((self.a + self.b + self.c))/2)\n",
        "        return ((s*(s - self.a)*(s - self.b)*(s - self.c))*0.5)"
      ],
      "execution_count": 0,
      "outputs": []
    },
    {
      "cell_type": "code",
      "metadata": {
        "id": "PkWbTP38e31H",
        "colab_type": "code",
        "colab": {}
      },
      "source": [
        "x = area_triangle(5, 6, 7)"
      ],
      "execution_count": 0,
      "outputs": []
    },
    {
      "cell_type": "code",
      "metadata": {
        "id": "nvs56zX-e31K",
        "colab_type": "code",
        "outputId": "9c01e474-5786-4cdf-ca2b-3b6ecbf2b279",
        "colab": {
          "base_uri": "https://localhost:8080/",
          "height": 35
        }
      },
      "source": [
        "x.area()"
      ],
      "execution_count": 16,
      "outputs": [
        {
          "output_type": "execute_result",
          "data": {
            "text/plain": [
              "108.0"
            ]
          },
          "metadata": {
            "tags": []
          },
          "execution_count": 16
        }
      ]
    },
    {
      "cell_type": "markdown",
      "metadata": {
        "id": "tm29xPS4e31N",
        "colab_type": "text"
      },
      "source": [
        "1.2\n",
        "Write a function filter_long_words() that takes a list of words and an integer n and returns the list\n",
        "of words that are longer than n"
      ]
    },
    {
      "cell_type": "code",
      "metadata": {
        "id": "CaYWCdyNe31P",
        "colab_type": "code",
        "colab": {}
      },
      "source": [
        "def filter_long_words(mylist, num):\n",
        "    a = []\n",
        "    for i in mylist:\n",
        "        if len(i) > num:\n",
        "            a.append(i)\n",
        "    return a"
      ],
      "execution_count": 0,
      "outputs": []
    },
    {
      "cell_type": "code",
      "metadata": {
        "id": "OerbwULwe31S",
        "colab_type": "code",
        "outputId": "a7708306-aa75-4108-d1ec-553c77d12b52",
        "colab": {
          "base_uri": "https://localhost:8080/",
          "height": 35
        }
      },
      "source": [
        "filter_long_words(mylist, 10)"
      ],
      "execution_count": 18,
      "outputs": [
        {
          "output_type": "execute_result",
          "data": {
            "text/plain": [
              "['Data Science', 'Machine Learning', 'Deep Learning']"
            ]
          },
          "metadata": {
            "tags": []
          },
          "execution_count": 18
        }
      ]
    },
    {
      "cell_type": "markdown",
      "metadata": {
        "id": "5cz4EAfze31W",
        "colab_type": "text"
      },
      "source": [
        "2.1\n",
        "Write a Python program using function concept that maps list of words into a list of integers\n",
        "representing the lengths of the corresponding words.\n",
        "Hint: If a list [ ab,cde,erty] is passed on to the python function output should come as [2,3,4]\n",
        "Here 2,3 and 4 are the lengths of the words in the list."
      ]
    },
    {
      "cell_type": "code",
      "metadata": {
        "id": "-ZR8TxJpe31X",
        "colab_type": "code",
        "outputId": "c80de0f3-c604-46ac-d3a8-30307e6786e1",
        "colab": {
          "base_uri": "https://localhost:8080/",
          "height": 35
        }
      },
      "source": [
        "mylist = ['Data Science', 'Machine Learning', 'Statistics', 'Deep Learning']\n",
        "\n",
        "print(list(map(lambda x: len(x), mylist)))"
      ],
      "execution_count": 19,
      "outputs": [
        {
          "output_type": "stream",
          "text": [
            "[12, 16, 10, 13]\n"
          ],
          "name": "stdout"
        }
      ]
    },
    {
      "cell_type": "markdown",
      "metadata": {
        "id": "tNLhm4G_e31b",
        "colab_type": "text"
      },
      "source": [
        "2.2\n",
        "Write a Python function which takes a character (i.e. a string of length 1) and returns True if it is\n",
        "a vowel, False otherwise.\n"
      ]
    },
    {
      "cell_type": "code",
      "metadata": {
        "id": "sSt2dvaQe31c",
        "colab_type": "code",
        "colab": {}
      },
      "source": [
        "def isvowel(string):\n",
        "    if string == 'a' or string == 'e' or string == 'i' or string == 'o' or string == 'u':\n",
        "        return True\n",
        "    else:\n",
        "        return False"
      ],
      "execution_count": 0,
      "outputs": []
    },
    {
      "cell_type": "code",
      "metadata": {
        "id": "wTkz-j2de31d",
        "colab_type": "code",
        "outputId": "e995a667-7c30-4f38-b53e-7bf500338819",
        "colab": {
          "base_uri": "https://localhost:8080/",
          "height": 52
        }
      },
      "source": [
        "print(isvowel('p'))\n",
        "print(isvowel('o'))"
      ],
      "execution_count": 21,
      "outputs": [
        {
          "output_type": "stream",
          "text": [
            "False\n",
            "True\n"
          ],
          "name": "stdout"
        }
      ]
    },
    {
      "cell_type": "code",
      "metadata": {
        "id": "DhZ2EeJ2e31g",
        "colab_type": "code",
        "colab": {}
      },
      "source": [
        ""
      ],
      "execution_count": 0,
      "outputs": []
    }
  ]
}