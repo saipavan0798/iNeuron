{
  "nbformat": 4,
  "nbformat_minor": 0,
  "metadata": {
    "colab": {
      "name": "assignment1.ipynb",
      "provenance": [],
      "collapsed_sections": []
    },
    "kernelspec": {
      "name": "python3",
      "display_name": "Python 3"
    },
    "accelerator": "TPU"
  },
  "cells": [
    {
      "cell_type": "markdown",
      "metadata": {
        "id": "PoDymOP6mKtx",
        "colab_type": "text"
      },
      "source": [
        "# Task 1:"
      ]
    },
    {
      "cell_type": "markdown",
      "metadata": {
        "id": "NMdc4cR2mOsG",
        "colab_type": "text"
      },
      "source": [
        "2. Write a program which will find all such numbers which are divisible by 7 but are not a multiple of 5, between 2000 and 3200 (both included). The numbers obtained should be printed in a comma-separated sequence on a single line. "
      ]
    },
    {
      "cell_type": "code",
      "metadata": {
        "id": "xH8tl_bhdZNO",
        "colab_type": "code",
        "outputId": "e00b44c0-fdcb-4188-82e2-dd84af5f5440",
        "colab": {
          "base_uri": "https://localhost:8080/",
          "height": 55
        }
      },
      "source": [
        "x = []\n",
        "\n",
        "for i in range(2000, 3200):\n",
        "  if (i%7 == 0) and (i%5 != 0):\n",
        "    x.append(i)\n",
        "\n",
        "print(x)"
      ],
      "execution_count": 0,
      "outputs": [
        {
          "output_type": "stream",
          "text": [
            "[2002, 2009, 2016, 2023, 2037, 2044, 2051, 2058, 2072, 2079, 2086, 2093, 2107, 2114, 2121, 2128, 2142, 2149, 2156, 2163, 2177, 2184, 2191, 2198, 2212, 2219, 2226, 2233, 2247, 2254, 2261, 2268, 2282, 2289, 2296, 2303, 2317, 2324, 2331, 2338, 2352, 2359, 2366, 2373, 2387, 2394, 2401, 2408, 2422, 2429, 2436, 2443, 2457, 2464, 2471, 2478, 2492, 2499, 2506, 2513, 2527, 2534, 2541, 2548, 2562, 2569, 2576, 2583, 2597, 2604, 2611, 2618, 2632, 2639, 2646, 2653, 2667, 2674, 2681, 2688, 2702, 2709, 2716, 2723, 2737, 2744, 2751, 2758, 2772, 2779, 2786, 2793, 2807, 2814, 2821, 2828, 2842, 2849, 2856, 2863, 2877, 2884, 2891, 2898, 2912, 2919, 2926, 2933, 2947, 2954, 2961, 2968, 2982, 2989, 2996, 3003, 3017, 3024, 3031, 3038, 3052, 3059, 3066, 3073, 3087, 3094, 3101, 3108, 3122, 3129, 3136, 3143, 3157, 3164, 3171, 3178, 3192, 3199]\n"
          ],
          "name": "stdout"
        }
      ]
    },
    {
      "cell_type": "markdown",
      "metadata": {
        "id": "nn3Twj1DvgFB",
        "colab_type": "text"
      },
      "source": [
        "3. Write a Python program to accept the user's first and last name and then getting them printed in the the reverse order with a space between first name and last name. "
      ]
    },
    {
      "cell_type": "code",
      "metadata": {
        "id": "aeAJiWN_ddIT",
        "colab_type": "code",
        "outputId": "1179fd08-b05d-4f73-a253-be584603ad92",
        "colab": {
          "base_uri": "https://localhost:8080/",
          "height": 70
        }
      },
      "source": [
        "first_name = input(\"What is your First Name \")\n",
        "last_name = input(\"What is your Last Name \")\n",
        "\n",
        "def reverse_string(x, y):\n",
        "  return (x[::-1] +\" \"+ y[::-1])\n",
        "\n",
        "print(reverse_string(first_name, last_name))"
      ],
      "execution_count": 0,
      "outputs": [
        {
          "output_type": "stream",
          "text": [
            "What is your First Name Sai\n",
            "What is your Last Name Pavan\n",
            "iaS navaP\n"
          ],
          "name": "stdout"
        }
      ]
    },
    {
      "cell_type": "markdown",
      "metadata": {
        "id": "r3oFX02BHaKI",
        "colab_type": "text"
      },
      "source": [
        "4. Write a Python program to find the volume of a sphere with diameter 12 cm. Formula: V=4/3 * π * r 3"
      ]
    },
    {
      "cell_type": "code",
      "metadata": {
        "id": "5_ityLwmdl88",
        "colab_type": "code",
        "outputId": "efccbdf1-8a5a-4e11-abd9-6d8628b290d1",
        "colab": {
          "base_uri": "https://localhost:8080/",
          "height": 35
        }
      },
      "source": [
        "from math import pi\n",
        "\n",
        "def vol_sphere_dia(r):\n",
        "  x = ((4%3)*(pi)*(r**3))\n",
        "  return x\n",
        "\n",
        "print(vol_sphere_dia(12))"
      ],
      "execution_count": 0,
      "outputs": [
        {
          "output_type": "stream",
          "text": [
            "5428.672105403162\n"
          ],
          "name": "stdout"
        }
      ]
    },
    {
      "cell_type": "markdown",
      "metadata": {
        "id": "5UwnbWUui4zz",
        "colab_type": "text"
      },
      "source": [
        "# Task 2:\n"
      ]
    },
    {
      "cell_type": "markdown",
      "metadata": {
        "id": "7H2TgGuui7dg",
        "colab_type": "text"
      },
      "source": [
        "1. Write a program which accepts a sequence of comma-separated numbers from console and generate a list.\n"
      ]
    },
    {
      "cell_type": "code",
      "metadata": {
        "id": "58E_ew4Yv3IE",
        "colab_type": "code",
        "outputId": "bacf35c7-dd11-4e16-b71c-97f3c74841db",
        "colab": {
          "base_uri": "https://localhost:8080/",
          "height": 52
        }
      },
      "source": [
        "values = input(\"Enter the numbers with comma-separated \")\n",
        "x = values.split(',')\n",
        "print('List: ', x)"
      ],
      "execution_count": 0,
      "outputs": [
        {
          "output_type": "stream",
          "text": [
            "Enter the numbers with comma-separated 1, 3, 445, 43\n",
            "List:  ['1', ' 3', ' 445', ' 43']\n"
          ],
          "name": "stdout"
        }
      ]
    },
    {
      "cell_type": "markdown",
      "metadata": {
        "id": "7CWDJFg04-Tj",
        "colab_type": "text"
      },
      "source": [
        "\n",
        "2. Create the below pattern using nested for loop in Python\n",
        "*\n",
        "* *\n",
        "* * * \n",
        "* * * *\n",
        "* * * * *\n",
        "* * * *\n",
        "* * *\n",
        "* *\n",
        "*"
      ]
    },
    {
      "cell_type": "code",
      "metadata": {
        "id": "VHEUAUWSrIEf",
        "colab_type": "code",
        "outputId": "4cfec7de-75ea-47fd-d918-16cdf9ad63c9",
        "colab": {
          "base_uri": "https://localhost:8080/",
          "height": 221
        }
      },
      "source": [
        "num = 6\n",
        "\n",
        "for i in range(num):\n",
        "  for j in range(i+1):\n",
        "    print(\"*\", end=\"\")\n",
        "  print()\n",
        "\n",
        "for i in range(num):\n",
        "  for j in range(num-i):\n",
        "    print('*', end='')\n",
        "  print()"
      ],
      "execution_count": 0,
      "outputs": [
        {
          "output_type": "stream",
          "text": [
            "*\n",
            "**\n",
            "***\n",
            "****\n",
            "*****\n",
            "******\n",
            "******\n",
            "*****\n",
            "****\n",
            "***\n",
            "**\n",
            "*\n"
          ],
          "name": "stdout"
        }
      ]
    },
    {
      "cell_type": "markdown",
      "metadata": {
        "id": "5PY_Q2E8Wlf5",
        "colab_type": "text"
      },
      "source": [
        "3. Write a Python program to reverse a word after accepting the input from the user.\n",
        "Sample Output:\n",
        "Input word: AcadGild\n",
        "Output: dilGdacA\n"
      ]
    },
    {
      "cell_type": "code",
      "metadata": {
        "id": "Y7opdkZ7P-w2",
        "colab_type": "code",
        "outputId": "7c5c3b11-05e9-4c60-d763-55a30ce4cd9c",
        "colab": {
          "base_uri": "https://localhost:8080/",
          "height": 52
        }
      },
      "source": [
        "name = input('Enter an name you would like to reverse: ')\n",
        "\n",
        "def rev_string(x):\n",
        "  return(\"Reversed of \" + name + \" is \" + x[::-1])\n",
        "\n",
        "rev_string(name)"
      ],
      "execution_count": 0,
      "outputs": [
        {
          "output_type": "stream",
          "text": [
            "Enter an name you would like to reverse: AcadGild\n"
          ],
          "name": "stdout"
        },
        {
          "output_type": "execute_result",
          "data": {
            "text/plain": [
              "'Reversed of AcadGild is dliGdacA'"
            ]
          },
          "metadata": {
            "tags": []
          },
          "execution_count": 2
        }
      ]
    },
    {
      "cell_type": "code",
      "metadata": {
        "id": "lToxE62yW_7R",
        "colab_type": "code",
        "outputId": "9d09ea63-7db8-4106-a7ed-21350506f90e",
        "colab": {
          "base_uri": "https://localhost:8080/",
          "height": 52
        }
      },
      "source": [
        "a = \"AcadGild\"\n",
        "\n",
        "for i in a:\n",
        "  print(i, end='')\n",
        "  \n",
        "print()\n",
        "  \n",
        "for i in a[::-1]:\n",
        "  print(i, end=\"\")"
      ],
      "execution_count": 0,
      "outputs": [
        {
          "output_type": "stream",
          "text": [
            "AcadGild\n",
            "dliGdacA"
          ],
          "name": "stdout"
        }
      ]
    },
    {
      "cell_type": "markdown",
      "metadata": {
        "id": "oEPzbWiRTS0R",
        "colab_type": "text"
      },
      "source": [
        "4. Write a Python Program to print the given string in the format specified in the ​sample output. \n",
        " WE, THE PEOPLE OF INDIA, having solemnly resolved to constitute India into a SOVEREIGN, SOCIALIST, SECULAR, DEMOCRATIC REPUBLIC and to secure to all its citizens \n",
        " \n",
        "Sample Output: \n",
        " \n",
        "WE, THE PEOPLE OF INDIA,   having solemnly resolved to constitute India into a SOVEREIGN, !  SOCIALIST, SECULAR, DEMOCRATIC REPUBLIC    and to secure to all its citizens "
      ]
    },
    {
      "cell_type": "code",
      "metadata": {
        "id": "VQPE7L6GRqwq",
        "colab_type": "code",
        "outputId": "1c8177d8-4c4b-47c7-e665-168454f20374",
        "colab": {
          "base_uri": "https://localhost:8080/",
          "height": 88
        }
      },
      "source": [
        "print('''WE, THE PEOPLE OF INDIA, having solemnly resolved to constitute India, \\n \\tinto a SOVEREIGN, ! \\n\\t\\t SOCIALIST, SECULAR, DEMOCRATIC REPUBLIC \\n\\t\\tand to secure to all its citizens''')"
      ],
      "execution_count": 0,
      "outputs": [
        {
          "output_type": "stream",
          "text": [
            "WE, THE PEOPLE OF INDIA, having solemnly resolved to constitute India, \n",
            " \tinto a SOVEREIGN, ! \n",
            "\t\t SOCIALIST, SECULAR, DEMOCRATIC REPUBLIC \n",
            "\t\tand to secure to all its citizens\n"
          ],
          "name": "stdout"
        }
      ]
    },
    {
      "cell_type": "code",
      "metadata": {
        "id": "WbyjaNpsVb2k",
        "colab_type": "code",
        "colab": {}
      },
      "source": [
        ""
      ],
      "execution_count": 0,
      "outputs": []
    },
    {
      "cell_type": "code",
      "metadata": {
        "id": "17GS94YCWY2A",
        "colab_type": "code",
        "colab": {}
      },
      "source": [
        ""
      ],
      "execution_count": 0,
      "outputs": []
    }
  ]
}