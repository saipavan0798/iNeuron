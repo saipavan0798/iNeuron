{
  "nbformat": 4,
  "nbformat_minor": 0,
  "metadata": {
    "colab": {
      "name": "aassignment2.ipynb",
      "provenance": [],
      "collapsed_sections": []
    },
    "kernelspec": {
      "name": "python3",
      "display_name": "Python 3"
    },
    "accelerator": "TPU"
  },
  "cells": [
    {
      "cell_type": "markdown",
      "metadata": {
        "id": "-LKwrLYRBdUT",
        "colab_type": "text"
      },
      "source": [
        "# Task1:"
      ]
    },
    {
      "cell_type": "markdown",
      "metadata": {
        "id": "kIOxAk85Bh6q",
        "colab_type": "text"
      },
      "source": [
        "1.1  \n",
        " \n",
        "Write a Python Program to implement your own myreduce() function which works exactly like Python's built-in function reduce()"
      ]
    },
    {
      "cell_type": "code",
      "metadata": {
        "id": "ZUu4GKT_4XaX",
        "colab_type": "code",
        "colab": {}
      },
      "source": [
        "def myreduce(anyfun, sequence):\n",
        "  \n",
        "  # getting first item from the sequence and assigning it to result\n",
        "  result = sequence[0]\n",
        "  # iterate over remaining sequence and apply reduction function\n",
        "  for item in sequence[1:]:\n",
        "    result = anyfun(result, item)\n",
        "  return result"
      ],
      "execution_count": 0,
      "outputs": []
    },
    {
      "cell_type": "code",
      "metadata": {
        "id": "Yhwvr9Xy4n5T",
        "colab_type": "code",
        "outputId": "c799eccf-d7d1-4e80-8b6a-73a53fb30fb2",
        "colab": {
          "base_uri": "https://localhost:8080/",
          "height": 35
        }
      },
      "source": [
        "a = [1, 3, 8, 0]\n",
        "\n",
        "myreduce(lambda x, y: x+y, a)"
      ],
      "execution_count": 0,
      "outputs": [
        {
          "output_type": "execute_result",
          "data": {
            "text/plain": [
              "12"
            ]
          },
          "metadata": {
            "tags": []
          },
          "execution_count": 8
        }
      ]
    },
    {
      "cell_type": "markdown",
      "metadata": {
        "id": "feH6F5e3KW_e",
        "colab_type": "text"
      },
      "source": [
        "1.2  \n",
        " \n",
        "Write a Python program to implement your own myfilter() function which works exactly like Python's built-in function filter() "
      ]
    },
    {
      "cell_type": "code",
      "metadata": {
        "id": "h35Tb11lILun",
        "colab_type": "code",
        "colab": {}
      },
      "source": [
        "def myfilter(anyfun, sequence):\n",
        "  \n",
        "  # Empty list\n",
        "  result = []\n",
        "  \n",
        "  for item in sequence:\n",
        "    if anyfun(item):\n",
        "      result.append(item)\n",
        "      \n",
        "  return result"
      ],
      "execution_count": 0,
      "outputs": []
    },
    {
      "cell_type": "code",
      "metadata": {
        "id": "fGzkq_luLhBf",
        "colab_type": "code",
        "colab": {}
      },
      "source": [
        "def even_num(num):\n",
        "  if num%2==0:\n",
        "    return True"
      ],
      "execution_count": 0,
      "outputs": []
    },
    {
      "cell_type": "code",
      "metadata": {
        "id": "2TNTNBpQTViP",
        "colab_type": "code",
        "outputId": "efa2b7c9-d925-4629-ac8c-5395b961d44d",
        "colab": {
          "base_uri": "https://localhost:8080/",
          "height": 35
        }
      },
      "source": [
        "list(myfilter(even_num, a))"
      ],
      "execution_count": 0,
      "outputs": [
        {
          "output_type": "execute_result",
          "data": {
            "text/plain": [
              "[8, 0]"
            ]
          },
          "metadata": {
            "tags": []
          },
          "execution_count": 20
        }
      ]
    },
    {
      "cell_type": "markdown",
      "metadata": {
        "id": "CksLaboue5in",
        "colab_type": "text"
      },
      "source": [
        "#### 2.  \n",
        " \n",
        "Implement List comprehensions to produce the following lists. \n",
        " \n",
        "Write List comprehensions to produce the following Lists \n",
        " \n",
        "['A', 'C', 'A', 'D', 'G', 'I', ’L’, ‘ D’] \n",
        " \n",
        "['x', 'xx', 'xxx', 'xxxx', 'y', 'yy', 'yyy', 'yyyy', 'z', 'zz', 'zzz', 'zzzz'] \n",
        " \n",
        "['x', 'y', 'z', 'xx', 'yy', 'zz', 'xx', 'yy', 'zz', 'xxxx', 'yyyy', 'zzzz'] \n",
        " \n",
        "[[2], [3], [4], [3], [4], [5], [4], [5], [6]] \n",
        " \n",
        "[[2, 3, 4, 5], [3, 4, 5, 6], [4, 5, 6, 7], [5, 6, 7, 8]] \n",
        " \n",
        "[(1, 1), (2, 1), (3, 1), (1, 2), (2, 2), (3, 2), (1, 3), (2, 3), (3, 3)]"
      ]
    },
    {
      "cell_type": "code",
      "metadata": {
        "id": "sK1rMFUQWZtk",
        "colab_type": "code",
        "outputId": "d1eaa4aa-1642-4a36-a313-ce8ceff4a483",
        "colab": {
          "base_uri": "https://localhost:8080/",
          "height": 34
        }
      },
      "source": [
        "words = 'ACADGILD'\n",
        "[word for word in words]"
      ],
      "execution_count": 0,
      "outputs": [
        {
          "output_type": "execute_result",
          "data": {
            "text/plain": [
              "['A', 'C', 'A', 'D', 'G', 'I', 'L', 'D']"
            ]
          },
          "metadata": {
            "tags": []
          },
          "execution_count": 1
        }
      ]
    },
    {
      "cell_type": "code",
      "metadata": {
        "id": "SpnicpFiWpof",
        "colab_type": "code",
        "outputId": "3fcadd2c-41df-4e00-8e42-109ea32e49a6",
        "colab": {
          "base_uri": "https://localhost:8080/",
          "height": 34
        }
      },
      "source": [
        "input_list = ['x', 'y', 'z']\n",
        "\n",
        "[item*num for item in input_list for num in range(1, 5)]"
      ],
      "execution_count": 0,
      "outputs": [
        {
          "output_type": "execute_result",
          "data": {
            "text/plain": [
              "['x', 'xx', 'xxx', 'xxxx', 'y', 'yy', 'yyy', 'yyyy', 'z', 'zz', 'zzz', 'zzzz']"
            ]
          },
          "metadata": {
            "tags": []
          },
          "execution_count": 2
        }
      ]
    },
    {
      "cell_type": "code",
      "metadata": {
        "id": "9EsaB6LzVIwJ",
        "colab_type": "code",
        "outputId": "76028cb8-798a-4399-ce42-22c6f114e2ee",
        "colab": {
          "base_uri": "https://localhost:8080/",
          "height": 34
        }
      },
      "source": [
        "[item*num for num in range(1,5) for item in input_list]"
      ],
      "execution_count": 0,
      "outputs": [
        {
          "output_type": "execute_result",
          "data": {
            "text/plain": [
              "['x', 'y', 'z', 'xx', 'yy', 'zz', 'xxx', 'yyy', 'zzz', 'xxxx', 'yyyy', 'zzzz']"
            ]
          },
          "metadata": {
            "tags": []
          },
          "execution_count": 3
        }
      ]
    },
    {
      "cell_type": "code",
      "metadata": {
        "id": "qXtDop7kVk55",
        "colab_type": "code",
        "outputId": "56890981-2edb-457c-8edb-8709fe189181",
        "colab": {
          "base_uri": "https://localhost:8080/",
          "height": 34
        }
      },
      "source": [
        "input_num = [2, 3, 4]\n",
        "\n",
        "[[item+num] for num in range(0,3) for item in input_num]"
      ],
      "execution_count": 0,
      "outputs": [
        {
          "output_type": "execute_result",
          "data": {
            "text/plain": [
              "[[2], [3], [4], [3], [4], [5], [4], [5], [6]]"
            ]
          },
          "metadata": {
            "tags": []
          },
          "execution_count": 9
        }
      ]
    },
    {
      "cell_type": "code",
      "metadata": {
        "id": "YhZQKjXvVzAX",
        "colab_type": "code",
        "outputId": "ef573660-8108-4b8d-970d-02ce09a8e947",
        "colab": {
          "base_uri": "https://localhost:8080/",
          "height": 34
        }
      },
      "source": [
        "[[item+num for item in input_num] for num in range(0,4)]"
      ],
      "execution_count": 0,
      "outputs": [
        {
          "output_type": "execute_result",
          "data": {
            "text/plain": [
              "[[2, 3, 4], [3, 4, 5], [4, 5, 6], [5, 6, 7]]"
            ]
          },
          "metadata": {
            "tags": []
          },
          "execution_count": 11
        }
      ]
    },
    {
      "cell_type": "code",
      "metadata": {
        "id": "UX2ncdfYWx9Y",
        "colab_type": "code",
        "outputId": "40147881-6009-47b8-e3e7-59dc14ebfa21",
        "colab": {
          "base_uri": "https://localhost:8080/"
        }
      },
      "source": [
        "input_num = [1, 2, 3]\n",
        "[(a, b) for a in input_num for b in range(1, 4)]"
      ],
      "execution_count": 0,
      "outputs": [
        {
          "output_type": "execute_result",
          "data": {
            "text/plain": [
              "[(1, 1), (1, 2), (1, 3), (2, 1), (2, 2), (2, 3), (3, 1), (3, 2), (3, 3)]"
            ]
          },
          "metadata": {
            "tags": []
          },
          "execution_count": 3
        }
      ]
    },
    {
      "cell_type": "markdown",
      "metadata": {
        "id": "amZqB1RgAFKD",
        "colab_type": "text"
      },
      "source": [
        "3.\n",
        "Implement a function longestWord() that takes a list of words and returns the longest one"
      ]
    },
    {
      "cell_type": "code",
      "metadata": {
        "id": "9-hRRN1xXGQd",
        "colab_type": "code",
        "colab": {}
      },
      "source": [
        ""
      ],
      "execution_count": 0,
      "outputs": []
    }
  ]
}